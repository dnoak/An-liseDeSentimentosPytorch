{
 "cells": [
  {
   "cell_type": "code",
   "execution_count": 1,
   "metadata": {},
   "outputs": [
    {
     "name": "stdout",
     "output_type": "stream",
     "text": [
      "1.12.1+cu116\n"
     ]
    }
   ],
   "source": [
    "import torch\n",
    "import pandas as pd\n",
    "import numpy as np\n",
    "import matplotlib.pyplot as plt\n",
    "import os \n",
    "\n",
    "#os.system('clear')\n",
    "\n",
    "print(torch.__version__)"
   ]
  },
  {
   "cell_type": "code",
   "execution_count": 2,
   "metadata": {},
   "outputs": [
    {
     "name": "stdout",
     "output_type": "stream",
     "text": [
      "scalar = tensor(7), scalar.ndim = 0, scalar.item() = 7\n",
      "\n",
      "vector = tensor([7, 7]), vector.ndim = 1, vector.shape = torch.Size([2])\n",
      "\n",
      "MATRIX = tensor([[ 7,  8],\n",
      "        [ 9, 10]]), MATRIX.ndim = 2, MATRIX.shape = torch.Size([2, 2])\n",
      "\n",
      "TENSOR = tensor([[[1, 2, 0],\n",
      "         [2, 3, 0],\n",
      "         [3, 4, 0]]]), TENSOR.ndim = 3, TENSOR.shape = torch.Size([1, 3, 3])\n",
      "\n"
     ]
    }
   ],
   "source": [
    "scalar = torch.tensor(7)\n",
    "vector = torch.tensor([7, 7])\n",
    "MATRIX = torch.tensor([[7,8], [9,10]])\n",
    "TENSOR = torch.tensor([[[1,2,0],[2,3,0],[3,4,0]]])\n",
    "\n",
    "print(f'{scalar = }, {scalar.ndim = }, {scalar.item() = }\\n')\n",
    "print(f'{vector = }, {vector.ndim = }, {vector.shape = }\\n')\n",
    "print(f'{MATRIX = }, {MATRIX.ndim = }, {MATRIX.shape = }\\n')\n",
    "print(f'{TENSOR = }, {TENSOR.ndim = }, {TENSOR.shape = }\\n')"
   ]
  },
  {
   "cell_type": "code",
   "execution_count": 3,
   "metadata": {},
   "outputs": [
    {
     "name": "stdout",
     "output_type": "stream",
     "text": [
      "3\n",
      "torch.Size([3, 224, 224]) 3\n",
      "tensor([[0., 0., 0., 0.],\n",
      "        [0., 0., 0., 0.],\n",
      "        [0., 0., 0., 0.]]) \n",
      " tensor([[1., 1., 1., 1.],\n",
      "        [1., 1., 1., 1.],\n",
      "        [1., 1., 1., 1.]])\n",
      "tensor([0, 2, 4, 6, 8])\n",
      "tensor([0, 0, 0, 0, 0])\n"
     ]
    },
    {
     "data": {
      "text/plain": [
       "tensor([0, 0, 0, 0, 0])"
      ]
     },
     "execution_count": 3,
     "metadata": {},
     "output_type": "execute_result"
    }
   ],
   "source": [
    "random_tensor = torch.rand(size=(3, 4, 2))\n",
    "print(random_tensor.ndim)\n",
    "\n",
    "random_img_tensor = torch.rand(size=(3, 224, 224)) #rgb, h, w\n",
    "print(random_img_tensor.shape, random_img_tensor.ndim)\n",
    "\n",
    "zeros_tensor = torch.zeros(size=(3, 4))\n",
    "ones_tensor = torch.ones(size=(3, 4))\n",
    "\n",
    "print(zeros_tensor, '\\n', ones_tensor)\n",
    "\n",
    "range_tensor = torch.arange(0, 10, 2)\n",
    "print(range_tensor)\n",
    "\n",
    "like_tensor = torch.zeros_like(input=range_tensor)\n",
    "print(like_tensor)\n",
    "like_tensor"
   ]
  },
  {
   "cell_type": "code",
   "execution_count": 4,
   "metadata": {},
   "outputs": [
    {
     "name": "stdout",
     "output_type": "stream",
     "text": [
      "True\n",
      "cuda:0\n",
      "torch.float32\n",
      "tensor([ 9., 16., 25.], device='cuda:0')\n"
     ]
    }
   ],
   "source": [
    "# types\n",
    "\n",
    "f32_tensor = torch.tensor(\n",
    "    [3, 4, 5], \n",
    "    dtype=torch.float32,    # datatype\n",
    "    device='cuda',          # 'cpu', 'gpu'\n",
    "    requires_grad=False,    # track gradients\n",
    "    )\n",
    "\n",
    "f16_tensor = torch.tensor(\n",
    "    [3, 4, 5], \n",
    "    dtype=torch.float16,    # datatype\n",
    "    device='cuda',          # 'cpu', 'gpu'\n",
    "    requires_grad=False,    # track gradients\n",
    "    )\n",
    "i32_tensor = torch.tensor(\n",
    "    [3, 4, 5], \n",
    "    dtype=torch.int32,    # datatype\n",
    "    device='cuda',          # 'cpu', 'gpu'\n",
    "    requires_grad=False,    # track gradients\n",
    "    )\n",
    "\n",
    "print(torch.float16 == torch.half)\n",
    "print(f32_tensor.device)\n",
    "\n",
    "print((f32_tensor * f16_tensor).dtype)\n",
    "print(f32_tensor * i32_tensor)"
   ]
  },
  {
   "cell_type": "code",
   "execution_count": 5,
   "metadata": {},
   "outputs": [
    {
     "data": {
      "text/plain": [
       "tensor([100, 110, 120])"
      ]
     },
     "execution_count": 5,
     "metadata": {},
     "output_type": "execute_result"
    }
   ],
   "source": [
    "# operations\n",
    "\n",
    "tensor = torch.tensor([1, 2, 3])\n",
    "\n",
    "torch.add(tensor, 10)\n",
    "\n",
    "# ou \n",
    "\n",
    "((tensor+10) * 10) - 10"
   ]
  },
  {
   "cell_type": "code",
   "execution_count": 6,
   "metadata": {},
   "outputs": [
    {
     "name": "stdout",
     "output_type": "stream",
     "text": [
      "tensor([1, 4, 9])\n",
      "tensor(14)\n",
      "CPU times: user 2.63 ms, sys: 0 ns, total: 2.63 ms\n",
      "Wall time: 6.93 ms\n"
     ]
    }
   ],
   "source": [
    "%%time\n",
    "\n",
    "# element wise mul\n",
    "\n",
    "tensorm1 = torch.tensor([1, 2, 3], dtype=torch.long)\n",
    "print(tensorm1**2)\n",
    "\n",
    "# matrix multiplication\n",
    "\n",
    "print(torch.matmul(tensorm1, tensorm1))"
   ]
  },
  {
   "cell_type": "code",
   "execution_count": 7,
   "metadata": {},
   "outputs": [
    {
     "data": {
      "text/plain": [
       "[tensor([[0.4325, 0.7265, 0.4505, 0.5070, 0.8354]]),\n",
       " tensor(0),\n",
       " tensor(4),\n",
       " tensor(0.4325),\n",
       " tensor(0.8354),\n",
       " tensor(2.9518),\n",
       " tensor(0.5904),\n",
       " tensor(0.5904)]"
      ]
     },
     "execution_count": 7,
     "metadata": {},
     "output_type": "execute_result"
    }
   ],
   "source": [
    "# max, min, arg, mean, sum\n",
    "\n",
    "tensor = torch.rand(1,5)\n",
    "\n",
    "[ \n",
    "    tensor,\n",
    "    tensor.argmin(),\n",
    "    tensor.argmax(),\n",
    "    tensor.min(),\n",
    "    tensor.max(),\n",
    "    tensor.sum(),\n",
    "    torch.mean(tensor.type(torch.float32)),\n",
    "    tensor.type(torch.float32).mean(),\n",
    "]"
   ]
  },
  {
   "cell_type": "code",
   "execution_count": 8,
   "metadata": {},
   "outputs": [
    {
     "data": {
      "text/plain": [
       "[tensor([[[0.4251, 0.4970],\n",
       "          [0.1012, 0.1463],\n",
       "          [0.2669, 0.0608],\n",
       "          [0.2349, 0.3046],\n",
       "          [0.0886, 0.3290]]]),\n",
       " tensor([0.4251, 0.4970, 0.1012, 0.1463, 0.2669, 0.0608, 0.2349, 0.3046, 0.0886,\n",
       "         0.3290]),\n",
       " tensor([[0.4251, 0.4970, 0.1012, 0.1463, 0.2669],\n",
       "         [0.0608, 0.2349, 0.3046, 0.0886, 0.3290]])]"
      ]
     },
     "execution_count": 8,
     "metadata": {},
     "output_type": "execute_result"
    }
   ],
   "source": [
    "# reshaping\n",
    "\n",
    "tensor = torch.rand(1,5,2)\n",
    "\n",
    "[\n",
    "    tensor,\n",
    "    tensor.flatten(),\n",
    "    tensor.reshape(2,5)\n",
    "]"
   ]
  },
  {
   "cell_type": "code",
   "execution_count": 9,
   "metadata": {},
   "outputs": [
    {
     "data": {
      "text/plain": [
       "[tensor([[-1,  2,  3,  4,  5,  6]]),\n",
       " tensor([-1,  2,  3,  4,  5,  6]),\n",
       " tensor([-1,  2,  3,  4,  5,  6]),\n",
       " tensor([[-1,  2,  3,  4,  5,  6],\n",
       "         [-1,  2,  3,  4,  5,  6],\n",
       "         [-1,  2,  3,  4,  5,  6]]),\n",
       " tensor([[-1, -1, -1],\n",
       "         [ 2,  2,  2],\n",
       "         [ 3,  3,  3],\n",
       "         [ 4,  4,  4],\n",
       "         [ 5,  5,  5],\n",
       "         [ 6,  6,  6]])]"
      ]
     },
     "execution_count": 9,
     "metadata": {},
     "output_type": "execute_result"
    }
   ],
   "source": [
    "tensor = torch.arange(1, 7)\n",
    "\n",
    "tensorview = tensor.view(1, 6) # same memory address\n",
    "\n",
    "tensorview[:, 0] = -1 \n",
    "\n",
    "stack0 = torch.stack([tensor, tensor, tensor], dim=0)\n",
    "stack1 = torch.stack([tensor, tensor, tensor], dim=1)\n",
    "\n",
    "[\n",
    "    tensorview,\n",
    "    tensor,\n",
    "    tensor,\n",
    "    stack0,\n",
    "    stack1,\n",
    "]"
   ]
  },
  {
   "cell_type": "code",
   "execution_count": 10,
   "metadata": {},
   "outputs": [
    {
     "data": {
      "text/plain": [
       "[tensor([[[1, 2],\n",
       "          [3, 4],\n",
       "          [5, 6],\n",
       "          [7, 8]]]),\n",
       " torch.Size([1, 4, 2]),\n",
       " '',\n",
       " tensor([[1, 2],\n",
       "         [3, 4],\n",
       "         [5, 6],\n",
       "         [7, 8]]),\n",
       " torch.Size([4, 2]),\n",
       " '',\n",
       " tensor([[[[[1, 2],\n",
       "            [3, 4],\n",
       "            [5, 6],\n",
       "            [7, 8]]]]]),\n",
       " torch.Size([4, 2])]"
      ]
     },
     "execution_count": 10,
     "metadata": {},
     "output_type": "execute_result"
    }
   ],
   "source": [
    "# squeeze - remove single dimensions\n",
    "\n",
    "tensor = torch.arange(1,9).reshape([1,4,2])\n",
    "[\n",
    "    tensor,\n",
    "    tensor.shape,\n",
    "    '',\n",
    "    tensor.squeeze(),\n",
    "    tensor.squeeze().shape,\n",
    "    '',\n",
    "    tensor.unsqueeze(dim=0).unsqueeze(dim=0),\n",
    "    tensor.unsqueeze(dim=0).unsqueeze(dim=0).squeeze().shape\n",
    "]"
   ]
  },
  {
   "cell_type": "code",
   "execution_count": 11,
   "metadata": {},
   "outputs": [
    {
     "data": {
      "text/plain": [
       "[torch.Size([224, 224, 3]),\n",
       " tensor(0.3054),\n",
       " torch.Size([3, 224, 224]),\n",
       " tensor(0.3054)]"
      ]
     },
     "execution_count": 11,
     "metadata": {},
     "output_type": "execute_result"
    }
   ],
   "source": [
    "random_img = torch.rand(size=(224, 224, 3))\n",
    "idx120 = random_img[1, 2, 0]\n",
    "\n",
    "# permute original tensor to rearrange the axis\n",
    "\n",
    "# obs: permute is a view() of the original tensor\n",
    "# 0->1, 1->2, 2->0\n",
    "img_permuted = random_img.permute(2, 0, 1)\n",
    "idx012 = img_permuted[0, 1, 2]\n",
    "\n",
    "[\n",
    "    random_img.shape,\n",
    "    idx120,\n",
    "    img_permuted.shape,\n",
    "    idx012,\n",
    "]\n"
   ]
  },
  {
   "cell_type": "code",
   "execution_count": 20,
   "metadata": {},
   "outputs": [
    {
     "data": {
      "text/plain": [
       "[tensor([[[1, 2, 3],\n",
       "          [4, 5, 6],\n",
       "          [7, 8, 9]]]),\n",
       " tensor([1, 2, 3]),\n",
       " tensor([[2, 5, 8]])]"
      ]
     },
     "execution_count": 20,
     "metadata": {},
     "output_type": "execute_result"
    }
   ],
   "source": [
    "tensor = torch.arange(1,10).reshape([1,3,3])\n",
    "\n",
    "[\n",
    "    tensor,\n",
    "    tensor[0, 0],\n",
    "    tensor[:, :, 1]\n",
    "]"
   ]
  },
  {
   "cell_type": "code",
   "execution_count": 26,
   "metadata": {},
   "outputs": [
    {
     "data": {
      "text/plain": [
       "(array([1., 2., 3., 4., 5., 6., 7.]),\n",
       " tensor([1., 2., 3., 4., 5., 6., 7.]),\n",
       " array([1., 2., 3., 4., 5., 6., 7.], dtype=float32))"
      ]
     },
     "execution_count": 26,
     "metadata": {},
     "output_type": "execute_result"
    }
   ],
   "source": [
    "import torch\n",
    "import numpy as np\n",
    "\n",
    "# from_numpy x numpy() don't share the memory address \n",
    "\n",
    "# dtype padrão = f32 \n",
    "array_np = np.arange(1, 8.0)\n",
    "\n",
    "# type padrão = f64\n",
    "tensor = torch.from_numpy(array_np).type(torch.float32)\n",
    "\n",
    "tensor_np = tensor.numpy()\n",
    "\n",
    "array_np, tensor, tensor_np"
   ]
  },
  {
   "cell_type": "code",
   "execution_count": 52,
   "metadata": {},
   "outputs": [
    {
     "data": {
      "text/plain": [
       "(tensor([-1.0000,  0.6531,  0.0457,  0.9424,  0.4925,  0.9985,  0.7585]),\n",
       " tensor([-1.0000,  0.6531,  0.0457,  0.9424,  0.4925,  0.9985,  0.7585]),\n",
       " tensor([0.0317, 0.2769, 0.9590, 0.0498, 0.1786, 0.4095, 0.5523]))"
      ]
     },
     "execution_count": 52,
     "metadata": {},
     "output_type": "execute_result"
    }
   ],
   "source": [
    "# same memory address\n",
    "\n",
    "RANDOM_SEED = 999\n",
    "torch.manual_seed(RANDOM_SEED)\n",
    "\n",
    "tensor1 = torch.rand([7])\n",
    "tensor2 = tensor1\n",
    "\n",
    "tensor2[0] = -1\n",
    "\n",
    "tensor1, tensor2, torch.rand([7])"
   ]
  },
  {
   "cell_type": "code",
   "execution_count": 81,
   "metadata": {},
   "outputs": [
    {
     "name": "stdout",
     "output_type": "stream",
     "text": [
      "cuda\n"
     ]
    },
    {
     "data": {
      "text/plain": [
       "(device(type='cpu'), tensor([1, 2, 3], device='cuda:0'), tensor([1, 2, 3]))"
      ]
     },
     "execution_count": 81,
     "metadata": {},
     "output_type": "execute_result"
    }
   ],
   "source": [
    "import torch\n",
    "\n",
    "\n",
    "device = 'cuda' if torch.cuda.is_available() else 'cpu'\n",
    "print(device)\n",
    "\n",
    "tensor = torch.tensor([1, 2, 3])\n",
    "\n",
    "# numpy doesn't work with device = 'cuda'\n",
    "\n",
    "tensor.device, tensor.to('cuda'), tensor.to('cuda').to('cpu').cuda().cpu()\n"
   ]
  },
  {
   "cell_type": "code",
   "execution_count": null,
   "metadata": {},
   "outputs": [],
   "source": []
  }
 ],
 "metadata": {
  "kernelspec": {
   "display_name": "Python 3.10.4 ('pytorch')",
   "language": "python",
   "name": "python3"
  },
  "language_info": {
   "codemirror_mode": {
    "name": "ipython",
    "version": 3
   },
   "file_extension": ".py",
   "mimetype": "text/x-python",
   "name": "python",
   "nbconvert_exporter": "python",
   "pygments_lexer": "ipython3",
   "version": "3.10.4"
  },
  "orig_nbformat": 4,
  "vscode": {
   "interpreter": {
    "hash": "9d8b530010f5f7977f5106c176bd3987a7ea64cbfd6591ec6c81cf9acbc9bdc0"
   }
  }
 },
 "nbformat": 4,
 "nbformat_minor": 2
}
